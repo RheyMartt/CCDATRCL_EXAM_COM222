{
  "cells": [
    {
      "cell_type": "markdown",
      "metadata": {
        "id": "yaz2B0KGFehP"
      },
      "source": [
        "# Midterm Exam 💛💙"
      ]
    },
    {
      "cell_type": "markdown",
      "metadata": {
        "id": "_DmK1ONEFehQ"
      },
      "source": [
        "**Instructions** ❗️❗️\n",
        "\n",
        "❌ Do not remove or modify the notebook **sections**, **subsections**, **exam questions** or **any text** in this python notebook\n",
        "\n",
        "✔️ Put your answer in the designated cells below each question"
      ]
    },
    {
      "cell_type": "markdown",
      "metadata": {
        "id": "TMCAXKWCFehR"
      },
      "source": [
        "## Search"
      ]
    },
    {
      "cell_type": "code",
      "execution_count": 32,
      "metadata": {
        "id": "Fy8nEBRRFehR"
      },
      "outputs": [],
      "source": [
        "def linearSearch(my_list, number):\n",
        "\n",
        "    index = 0\n",
        "\n",
        "    for i in my_list:\n",
        "\n",
        "        if my_list[index] == number:\n",
        "            return index\n",
        "\n",
        "        index = index + 1\n",
        "\n",
        "    return -1"
      ]
    },
    {
      "cell_type": "markdown",
      "metadata": {
        "id": "AjAevpueFehS"
      },
      "source": [
        "1. Using **linear search**, write a `findLargestIncrease()` function to find the largest increase in value between two adjacent numbers in your student number `(10 points)`\n",
        "\n",
        "    **Example:**\n",
        "\n",
        "    student_number = [2,0,2,2,6,2,5,1,9,3]\n",
        "\n",
        "    **Expected Output:**\n",
        "\n",
        "    findLargestIncrease(student_number)\n",
        "\n",
        "    Output: Between 1 and 9\n",
        "\n",
        "    **Explanation:**\n",
        "\n",
        "    From this student_number, the largest increase happened from number 1 to number 9"
      ]
    },
    {
      "cell_type": "code",
      "source": [
        "def findLargestIncrease(student_number):\n",
        "    if len(student_number) < 2:\n",
        "        return \"List should contain at least two numbers to find an increase.\"\n",
        "\n",
        "    largest_increase = -1\n",
        "    start_index = None\n",
        "    end_index = None\n",
        "\n",
        "    for i in range(len(student_number) - 1):\n",
        "        increase = student_number[i + 1] - student_number[i]\n",
        "        if increase > largest_increase:\n",
        "            largest_increase = increase\n",
        "            start_index = i\n",
        "            end_index = i + 1\n",
        "\n",
        "    if largest_increase <= 0:\n",
        "        return \"No increase found in the list.\"\n",
        "\n",
        "    return f\"Between {student_number[start_index]} and {student_number[end_index]}\""
      ],
      "metadata": {
        "id": "fV15ybgCJkZy"
      },
      "execution_count": 44,
      "outputs": []
    },
    {
      "cell_type": "code",
      "source": [
        "student_number = [2, 0, 2, 2, 1, 0, 6, 8, 9, 1]\n",
        "largest_increase_number = findLargestIncrease(student_number)"
      ],
      "metadata": {
        "id": "LOsl_Dp9JzGq"
      },
      "execution_count": 45,
      "outputs": []
    },
    {
      "cell_type": "code",
      "source": [
        "print(f\"Index of largest increase number {largest_increase_number}\")"
      ],
      "metadata": {
        "colab": {
          "base_uri": "https://localhost:8080/"
        },
        "id": "qcsOGMt0KwR_",
        "outputId": "b54e3a38-1688-4380-b18f-54b427769991"
      },
      "execution_count": 46,
      "outputs": [
        {
          "output_type": "stream",
          "name": "stdout",
          "text": [
            "Index of largest increase number Between 0 and 6\n"
          ]
        }
      ]
    },
    {
      "cell_type": "markdown",
      "metadata": {
        "id": "nMyr1fNyFehS"
      },
      "source": [
        "2. Using **linear search**, write a `findLargestDecrease()` function to find the largest decrease in value between two adjacent numbers in your student number `(10 points)`\n",
        "\n",
        "    **Example:**\n",
        "\n",
        "    student_number = [2,0,2,2,6,2,5,1,9,3]\n",
        "\n",
        "    **Expected Output:**\n",
        "\n",
        "    findLargestDecrease(student_number)\n",
        "\n",
        "    Output: Between 9 and 3\n",
        "\n",
        "    **Explanation:**\n",
        "\n",
        "    From this student_number, the largest decrease happened from number 9 to number 3"
      ]
    },
    {
      "cell_type": "code",
      "source": [
        "def findLargestDecrease(student_number):\n",
        "    if len(student_number) < 2:\n",
        "        return \"List should contain at least two numbers to find a decrease.\"\n",
        "\n",
        "    largest_decrease = 0\n",
        "    start_index = None\n",
        "    end_index = None\n",
        "\n",
        "    for i in range(len(student_number) - 1):\n",
        "        decrease = student_number[i] - student_number[i + 1]\n",
        "        if decrease > largest_decrease:\n",
        "            largest_decrease = decrease\n",
        "            start_index = i\n",
        "            end_index = i + 1\n",
        "\n",
        "    if largest_decrease <= 0:\n",
        "        return \"No decrease found in the list.\"\n",
        "\n",
        "    return f\"Between {student_number[start_index]} and {student_number[end_index]}\"\n"
      ],
      "metadata": {
        "id": "-2XxWkr2MqC5"
      },
      "execution_count": 47,
      "outputs": []
    },
    {
      "cell_type": "code",
      "source": [
        "student_number = [2, 0, 2, 2, 1, 0, 6, 8, 9, 1]\n",
        "largest_decrease_number = findLargestDecrease(student_number)"
      ],
      "metadata": {
        "id": "Rwm6hZb2NA-x"
      },
      "execution_count": 48,
      "outputs": []
    },
    {
      "cell_type": "code",
      "source": [
        "print(f\"Index of largest decrease number {largest_decrease_number}\")"
      ],
      "metadata": {
        "colab": {
          "base_uri": "https://localhost:8080/"
        },
        "id": "xGHY5uW4SBKp",
        "outputId": "0fa9723e-7826-4d42-8040-326ae9eeed76"
      },
      "execution_count": 49,
      "outputs": [
        {
          "output_type": "stream",
          "name": "stdout",
          "text": [
            "Index of largest decrease number Between 9 and 1\n"
          ]
        }
      ]
    },
    {
      "cell_type": "markdown",
      "metadata": {
        "id": "NtKSQn9QFehS"
      },
      "source": [
        "## Linked List"
      ]
    },
    {
      "cell_type": "code",
      "execution_count": 1,
      "metadata": {
        "id": "0HP5zyJcFehS"
      },
      "outputs": [],
      "source": [
        "class Node:\n",
        "\n",
        "    def __init__(self, data):\n",
        "        self.data = data\n",
        "        self.next = None  # null"
      ]
    },
    {
      "cell_type": "code",
      "execution_count": 2,
      "metadata": {
        "id": "A-8Uefe7FehS"
      },
      "outputs": [],
      "source": [
        "class LinkedList:\n",
        "\n",
        "    def __init__(self):\n",
        "        self.head = None\n",
        "\n",
        "    def traverse(self, node):\n",
        "        while node:\n",
        "            print(node.data, end=\" -> \")\n",
        "            node = node.next"
      ]
    },
    {
      "cell_type": "markdown",
      "metadata": {
        "id": "uPgIJJuSFehT"
      },
      "source": [
        "**Instructions** ❗️❗️\n",
        "\n",
        "Use the pre-defined linked list class/functions to create a linked list"
      ]
    },
    {
      "cell_type": "markdown",
      "metadata": {
        "id": "WIwpW7Q2FehT"
      },
      "source": [
        "1. Create a Singly linked list named **num_list** and print all of its elements. `(5 points)`\n",
        "\n",
        "- **num_list** should contain all digits of your student number.\n",
        "\n",
        "    **Expected Output:**\n",
        "\n",
        "    print(num_list)\n",
        "\n",
        "    [2, 0, 2, 2, 1, 2, 3, 4, 5, 6]"
      ]
    },
    {
      "cell_type": "code",
      "source": [
        "num_list = LinkedList()"
      ],
      "metadata": {
        "id": "IdHa5C_mkaYh"
      },
      "execution_count": 3,
      "outputs": []
    },
    {
      "cell_type": "code",
      "source": [
        "num_list.head = Node(2)\n",
        "node_b = Node(0)\n",
        "node_c = Node(2)\n",
        "node_d = Node(2)\n",
        "node_e = Node(1)\n",
        "node_f = Node(0)\n",
        "node_g = Node(6)\n",
        "node_h = Node(8)\n",
        "node_i = Node(9)\n",
        "node_j = Node(1)"
      ],
      "metadata": {
        "id": "glSinLLIlOCe"
      },
      "execution_count": 11,
      "outputs": []
    },
    {
      "cell_type": "code",
      "source": [
        "num_list.head.next = node_b\n",
        "node_b.next = node_c\n",
        "node_c.next = node_d\n",
        "node_d.next = node_e\n",
        "node_e.next = node_f\n",
        "node_f.next = node_g\n",
        "node_g.next = node_h\n",
        "node_h.next = node_i\n",
        "node_i.next = node_j"
      ],
      "metadata": {
        "id": "GP1qOYcIoRVj"
      },
      "execution_count": 12,
      "outputs": []
    },
    {
      "cell_type": "code",
      "source": [
        "num_list.traverse(num_list.head)"
      ],
      "metadata": {
        "colab": {
          "base_uri": "https://localhost:8080/"
        },
        "id": "Tww5l3o4pKPJ",
        "outputId": "00b1f14e-91c4-4057-ba36-4da41759926c"
      },
      "execution_count": 13,
      "outputs": [
        {
          "output_type": "stream",
          "name": "stdout",
          "text": [
            "2 -> 0 -> 2 -> 2 -> 1 -> 0 -> 6 -> 8 -> 9 -> 1 -> "
          ]
        }
      ]
    },
    {
      "cell_type": "markdown",
      "metadata": {
        "id": "dqA2UYrYFehT"
      },
      "source": [
        "2. Write a `hasPrime()` function to test whether a prime number is in the last six digits of **num_list**. `(5 points)`\n",
        "\n",
        "- If a prime number is in the last six digits of **num_list**, the method should return **true**\n",
        "\n",
        "- If a prime number is not in the last six digits of **num_list**, the method should return **false**\n",
        "\n",
        "    **Expected Output:**\n",
        "\n",
        "    hasPrime(num_list)\n",
        "\n",
        "    True"
      ]
    },
    {
      "cell_type": "code",
      "source": [
        "def is_prime(num):\n",
        "    if num <= 1:\n",
        "        return False\n",
        "    if num <= 3:\n",
        "        return True\n",
        "    if num % 2 == 0 or num % 3 == 0:\n",
        "        return False\n",
        "    i = 5\n",
        "    while i * i <= num:\n",
        "        if num % i == 0 or num % (i + 2) == 0:\n",
        "            return False\n",
        "        i += 6\n",
        "    return True"
      ],
      "metadata": {
        "id": "ml5XX8WCtO-J"
      },
      "execution_count": 14,
      "outputs": []
    },
    {
      "cell_type": "code",
      "source": [
        "def hasPrime(num_list):\n",
        "    current = num_list.head\n",
        "    last_six_digits = []\n",
        "\n",
        "    while current:\n",
        "        last_six_digits.append(current.data)\n",
        "        if len(last_six_digits) > 6:\n",
        "            last_six_digits.pop(0)\n",
        "        current = current.next\n",
        "\n",
        "    for digit in reversed(last_six_digits):\n",
        "        if is_prime(digit):\n",
        "            return True\n",
        "\n",
        "    return False"
      ],
      "metadata": {
        "id": "dxO3_VbBuN8z"
      },
      "execution_count": 15,
      "outputs": []
    },
    {
      "cell_type": "code",
      "source": [
        "result = hasPrime(num_list)"
      ],
      "metadata": {
        "id": "nRM0JcmGufSk"
      },
      "execution_count": 16,
      "outputs": []
    },
    {
      "cell_type": "code",
      "source": [
        "print(result)"
      ],
      "metadata": {
        "colab": {
          "base_uri": "https://localhost:8080/"
        },
        "id": "beSFXDX5uiW3",
        "outputId": "ed9c5d10-2025-4889-f576-1807860df0c1"
      },
      "execution_count": 17,
      "outputs": [
        {
          "output_type": "stream",
          "name": "stdout",
          "text": [
            "False\n"
          ]
        }
      ]
    },
    {
      "cell_type": "markdown",
      "metadata": {
        "id": "5Qb0BOiwFehT"
      },
      "source": [
        "3. Write a `removeZeroes()` function to remove all occurrences of zeroes in **num_list**. `(5 points)`\n",
        "\n",
        "- If a zero is in **num_list**, return **num_list**\n",
        "\n",
        "- If there are no zeroes in **num_list**, return **\"no zeros found\"**\n",
        "\n",
        "    **Expected Output:**\n",
        "\n",
        "    removeZeroes(num_list)\n",
        "\n",
        "    [2, 2, 1, 2, 3, 4, 5, 6]"
      ]
    },
    {
      "cell_type": "code",
      "source": [
        "def removeZeroes(num_list):\n",
        "    current = num_list.head\n",
        "    prev = None\n",
        "\n",
        "    while current:\n",
        "        if current.data == 0:\n",
        "            if prev is None:\n",
        "                num_list.head = current.next\n",
        "                current = num_list.head\n",
        "            else:\n",
        "                prev.next = current.next\n",
        "                current = current.next\n",
        "        else:\n",
        "            prev = current\n",
        "            current = current.next\n",
        "\n",
        "    current = num_list.head\n",
        "    while current:\n",
        "        if current.data == 0:\n",
        "            return num_list\n",
        "\n",
        "        current = current.next\n",
        "\n",
        "    return \"no zeros found\""
      ],
      "metadata": {
        "id": "wG6Tl5OCBFAc"
      },
      "execution_count": 18,
      "outputs": []
    },
    {
      "cell_type": "code",
      "source": [
        "result = removeZeroes(num_list)"
      ],
      "metadata": {
        "id": "s61OIJbTBRsW"
      },
      "execution_count": 23,
      "outputs": []
    },
    {
      "cell_type": "code",
      "source": [
        "num_list.traverse(num_list.head)"
      ],
      "metadata": {
        "colab": {
          "base_uri": "https://localhost:8080/"
        },
        "id": "aR_8LwmMCEja",
        "outputId": "16bae31f-b996-4945-b1a2-5d564591d6b0"
      },
      "execution_count": 24,
      "outputs": [
        {
          "output_type": "stream",
          "name": "stdout",
          "text": [
            "2 -> 2 -> 2 -> 1 -> 6 -> 8 -> 9 -> 1 -> "
          ]
        }
      ]
    },
    {
      "cell_type": "markdown",
      "metadata": {
        "id": "SKAlpglNFehT"
      },
      "source": [
        "4. Insert a dash symbol between the 4th and 5th digit in **num_list**. `(5 points)`\n",
        "\n",
        "    **Expected Output:**\n",
        "\n",
        "    print(num_list)\n",
        "\n",
        "    [2, 0, 2, 2, \"-\", 1, 2, 3, 4, 5, 6]"
      ]
    },
    {
      "cell_type": "code",
      "source": [
        "num_list = LinkedList()"
      ],
      "metadata": {
        "id": "pOcy8nvhsfb3"
      },
      "execution_count": 66,
      "outputs": []
    },
    {
      "cell_type": "code",
      "source": [
        "num_list.head = Node(2)\n",
        "node_b = Node(0)\n",
        "node_c = Node(2)\n",
        "node_d = Node(2)\n",
        "node_e = Node(1)\n",
        "node_f = Node(0)\n",
        "node_g = Node(6)\n",
        "node_h = Node(8)\n",
        "node_i = Node(9)\n",
        "node_j = Node(1)"
      ],
      "metadata": {
        "id": "W0q1TNrUsgJY"
      },
      "execution_count": 67,
      "outputs": []
    },
    {
      "cell_type": "code",
      "source": [
        "num_list.head.next = node_b\n",
        "node_b.next = node_c\n",
        "node_c.next = node_d\n",
        "node_d.next = node_e\n",
        "node_e.next = node_f\n",
        "node_f.next = node_g\n",
        "node_g.next = node_h\n",
        "node_h.next = node_i\n",
        "node_i.next = node_j"
      ],
      "metadata": {
        "id": "-JUkEFZRsgll"
      },
      "execution_count": 68,
      "outputs": []
    },
    {
      "cell_type": "code",
      "source": [
        "def insertDash(num_list):\n",
        "    current = num_list.head\n",
        "    count = 1\n",
        "\n",
        "    while current:\n",
        "        if count == 4:\n",
        "            new_node = Node(\"-\")\n",
        "            new_node.next = current.next\n",
        "            current.next = new_node\n",
        "            count += 1\n",
        "        else:\n",
        "            count += 1\n",
        "\n",
        "        current = current.next"
      ],
      "metadata": {
        "id": "EqEN7uLIFIRb"
      },
      "execution_count": 69,
      "outputs": []
    },
    {
      "cell_type": "code",
      "source": [
        "insertDash(num_list)"
      ],
      "metadata": {
        "id": "9K6NJyrIF8Wz"
      },
      "execution_count": 70,
      "outputs": []
    },
    {
      "cell_type": "code",
      "source": [
        "num_list.traverse(num_list.head)"
      ],
      "metadata": {
        "colab": {
          "base_uri": "https://localhost:8080/"
        },
        "id": "ZaDuJTg5EnX9",
        "outputId": "1acf06be-fdb7-4b7f-b437-4f69c96aada0"
      },
      "execution_count": 71,
      "outputs": [
        {
          "output_type": "stream",
          "name": "stdout",
          "text": [
            "2 -> 0 -> 2 -> 2 -> - -> 1 -> 0 -> 6 -> 8 -> 9 -> 1 -> "
          ]
        }
      ]
    },
    {
      "cell_type": "markdown",
      "metadata": {
        "id": "KkC-LgdxFehT"
      },
      "source": [
        "## Stack"
      ]
    },
    {
      "cell_type": "code",
      "execution_count": 51,
      "metadata": {
        "id": "UYTqB1u_FehU"
      },
      "outputs": [],
      "source": [
        "# Creating a stack\n",
        "def create_stack():\n",
        "    stack = []\n",
        "    return stack\n",
        "\n",
        "\n",
        "def print_stack(stack):\n",
        "\n",
        "    if (check_empty(stack)):\n",
        "        return \"stack is empty\"\n",
        "\n",
        "    # Create a copy of the stack and reverse the elements\n",
        "    tempStack = stack.copy()\n",
        "    tempStack.reverse()\n",
        "\n",
        "    # Print all elements using a loop\n",
        "    for i in tempStack:\n",
        "        print(i)\n",
        "\n",
        "    # Delete the copy to free up memory\n",
        "    del tempStack\n",
        "\n",
        "# Creating an empty stack\n",
        "\n",
        "\n",
        "def check_empty(stack):\n",
        "    return len(stack) == 0\n",
        "\n",
        "\n",
        "# Adding items into the stack\n",
        "def push(stack, item):\n",
        "    stack.append(item)\n",
        "    print(\"pushed item: \" + item)\n",
        "\n",
        "\n",
        "# Removing an element from the stack\n",
        "def pop(stack):\n",
        "    if (check_empty(stack)):\n",
        "        return \"stack is empty\"\n",
        "\n",
        "    return stack.pop()\n",
        "\n",
        "\n",
        "def peek(stack):\n",
        "\n",
        "    # Use negative indexing to display the last element of the list\n",
        "    print(stack[-1])"
      ]
    },
    {
      "cell_type": "markdown",
      "metadata": {
        "id": "wLAQchs8FehU"
      },
      "source": [
        "**Instructions** ❗️❗️\n",
        "\n",
        "Use the pre-defined stack class/functions to create a stack"
      ]
    },
    {
      "cell_type": "markdown",
      "metadata": {
        "id": "37cg9BoCFehU"
      },
      "source": [
        "1. Create two (2) stacks named **name_stack** and **num_stack** `(5 points)`\n",
        "\n",
        "- **name_stack** should contain all letters of your first name.\n",
        "- **num_stack** should contain all digits of your student number.\n",
        "\n",
        "    **Expected Output:**\n",
        "\n",
        "    print(name_stack)\n",
        "\n",
        "    ['E', 'L', 'I', 'Z', 'E', 'R']\n",
        "\n",
        "    print(num_stack)\n",
        "\n",
        "    [2,0,2,2,1,2,3,4,5,6]"
      ]
    },
    {
      "cell_type": "code",
      "source": [
        "name_stack = create_stack()"
      ],
      "metadata": {
        "id": "GMCOdOMlSzy8"
      },
      "execution_count": 52,
      "outputs": []
    },
    {
      "cell_type": "code",
      "source": [
        "push(name_stack, 'M')\n",
        "push(name_stack, 'A')\n",
        "push(name_stack, 'R')\n",
        "push(name_stack, 'K')"
      ],
      "metadata": {
        "colab": {
          "base_uri": "https://localhost:8080/"
        },
        "id": "4ibNQYt6UnQN",
        "outputId": "3b3d6401-56d0-44db-d856-bb933d500dbb"
      },
      "execution_count": 53,
      "outputs": [
        {
          "output_type": "stream",
          "name": "stdout",
          "text": [
            "pushed item: M\n",
            "pushed item: A\n",
            "pushed item: R\n",
            "pushed item: K\n"
          ]
        }
      ]
    },
    {
      "cell_type": "code",
      "source": [
        "print(name_stack)"
      ],
      "metadata": {
        "colab": {
          "base_uri": "https://localhost:8080/"
        },
        "id": "p1YKERQ9Uz68",
        "outputId": "89f824a5-50f2-48e5-e8e5-4e1edc03ba78"
      },
      "execution_count": 54,
      "outputs": [
        {
          "output_type": "stream",
          "name": "stdout",
          "text": [
            "['M', 'A', 'R', 'K']\n"
          ]
        }
      ]
    },
    {
      "cell_type": "code",
      "source": [
        "num_stack = create_stack()"
      ],
      "metadata": {
        "id": "gFdpWqkhVHJE"
      },
      "execution_count": 55,
      "outputs": []
    },
    {
      "cell_type": "code",
      "source": [
        "push(num_stack, '2')\n",
        "push(num_stack, '0')\n",
        "push(num_stack, '2')\n",
        "push(num_stack, '2')\n",
        "push(num_stack, '1')\n",
        "push(num_stack, '0')\n",
        "push(num_stack, '6')\n",
        "push(num_stack, '8')\n",
        "push(num_stack, '9')\n",
        "push(num_stack, '1')"
      ],
      "metadata": {
        "colab": {
          "base_uri": "https://localhost:8080/"
        },
        "id": "v1w2JPDHVN2n",
        "outputId": "a6d188b5-c5eb-463c-c076-c3d0e93ebbef"
      },
      "execution_count": 59,
      "outputs": [
        {
          "output_type": "stream",
          "name": "stdout",
          "text": [
            "pushed item: 2\n",
            "pushed item: 0\n",
            "pushed item: 2\n",
            "pushed item: 2\n",
            "pushed item: 1\n",
            "pushed item: 0\n",
            "pushed item: 6\n",
            "pushed item: 8\n",
            "pushed item: 9\n",
            "pushed item: 1\n"
          ]
        }
      ]
    },
    {
      "cell_type": "code",
      "source": [
        "print(num_stack)"
      ],
      "metadata": {
        "colab": {
          "base_uri": "https://localhost:8080/"
        },
        "id": "gRMYCyU-VpYB",
        "outputId": "29bd4d8e-edab-4755-cd76-b3d10fe2748a"
      },
      "execution_count": 65,
      "outputs": [
        {
          "output_type": "stream",
          "name": "stdout",
          "text": [
            "['2', '0', '2', '2', '1', '0', '6', '8', '9', '1']\n"
          ]
        }
      ]
    },
    {
      "cell_type": "markdown",
      "metadata": {
        "id": "8cySe9LXFehU"
      },
      "source": [
        "2. Create a stack named **my_stack** that follows the following format: `(5 points)`\n",
        "\n",
        "- The first element should be the **5th digit in your student number**\n",
        "- The succeeding elements should be the letters of your **first name**\n",
        "- The last element should be the **last digit of your student number**\n",
        "\n",
        "    **Expected Output:**\n",
        "\n",
        "    my_stack = [1, E, L, I, Z, E, R, 6]"
      ]
    },
    {
      "cell_type": "code",
      "source": [
        "def create_stack():\n",
        "    stack = []\n",
        "    return stack"
      ],
      "metadata": {
        "id": "8h-V8u-gWRp5"
      },
      "execution_count": 72,
      "outputs": []
    },
    {
      "cell_type": "code",
      "source": [
        "my_stack = create_stack()"
      ],
      "metadata": {
        "id": "8-5h2IoqYngB"
      },
      "execution_count": 73,
      "outputs": []
    },
    {
      "cell_type": "code",
      "source": [
        "my_stack.insert(0, int(num_stack[4]))\n",
        "for char in reversed(name_stack):\n",
        "    my_stack.insert(0, char)\n",
        "my_stack.insert(0, int(num_stack[-1]))"
      ],
      "metadata": {
        "id": "9FGmU7SyYvbo"
      },
      "execution_count": 74,
      "outputs": []
    },
    {
      "cell_type": "code",
      "source": [
        "print(my_stack)"
      ],
      "metadata": {
        "colab": {
          "base_uri": "https://localhost:8080/"
        },
        "id": "hP9x9Mp4wSL4",
        "outputId": "f8010abf-f495-4fdc-a365-d5cc5b3b6ba1"
      },
      "execution_count": 75,
      "outputs": [
        {
          "output_type": "stream",
          "name": "stdout",
          "text": [
            "[1, 'M', 'A', 'R', 'K', 1]\n"
          ]
        }
      ]
    },
    {
      "cell_type": "markdown",
      "metadata": {
        "id": "8a8_KP5nFehU"
      },
      "source": [
        "3. Write a `verifyStack()` function that will take in `my_stack` and check if its format has been followed `(10 points)`\n",
        "\n",
        "- Return **True** if the format has been followed\n",
        "- Return **False** if the format was not followed\n",
        "- Verify the format by checking the contents of **my_stack** with **name_stack** and **num_stack**\n",
        "\n",
        "    **Expected Output:**\n",
        "\n",
        "    my_stack = [1, E, L, I, Z, E, R, 6]\n",
        "\n",
        "    verifyStack(my_stack)\n",
        "\n",
        "    True\n",
        "\n",
        "    my_stack = [1, S, L, I, Z, E, R, 7]\n",
        "\n",
        "    verifyStack(my_stack)\n",
        "\n",
        "    False"
      ]
    },
    {
      "cell_type": "code",
      "source": [
        "def verifyStack(my_stack):\n",
        "  if len(my_stack) != (len(name_stack) + 2):\n",
        "        return False\n",
        "\n",
        "  if my_stack[0] == num_stack[4] or my_stack[-1] == num_stack[-1]:\n",
        "        return False\n",
        "\n",
        "  for i in range(len(name_stack)):\n",
        "        if my_stack[i + 1] != name_stack[i]:\n",
        "            return False\n",
        "\n",
        "  return True"
      ],
      "metadata": {
        "id": "zG5qNI3NxBIj"
      },
      "execution_count": 81,
      "outputs": []
    },
    {
      "cell_type": "code",
      "source": [
        "print(verifyStack(my_stack))"
      ],
      "metadata": {
        "colab": {
          "base_uri": "https://localhost:8080/"
        },
        "id": "K_mC_4nexZFH",
        "outputId": "ad14cfa2-a869-4ea6-f78f-b382094c87b8"
      },
      "execution_count": 82,
      "outputs": [
        {
          "output_type": "stream",
          "name": "stdout",
          "text": [
            "True\n"
          ]
        }
      ]
    },
    {
      "cell_type": "markdown",
      "metadata": {
        "id": "UC5C64B2FehU"
      },
      "source": [
        "## Queue"
      ]
    },
    {
      "cell_type": "code",
      "execution_count": 84,
      "metadata": {
        "id": "NJJ0j0LHFehU"
      },
      "outputs": [],
      "source": [
        "class Queue:\n",
        "    def __init__(self):\n",
        "        self.queue = []\n",
        "\n",
        "    # Add an element\n",
        "    def enqueue(self, item):\n",
        "        self.queue.append(item)\n",
        "\n",
        "    # Remove an element\n",
        "    def dequeue(self):\n",
        "        if len(self.queue) < 1:\n",
        "            return None\n",
        "        return self.queue.pop(0)\n",
        "\n",
        "    # Display  the queue\n",
        "    def display(self):\n",
        "        print(self.queue)\n",
        "\n",
        "    def size(self):\n",
        "        return len(self.queue)\n",
        "\n",
        "    def peek(self):\n",
        "        return self.queue[0]"
      ]
    },
    {
      "cell_type": "markdown",
      "metadata": {
        "id": "80OekpbeFehV"
      },
      "source": [
        "**Instructions** ❗️❗️\n",
        "\n",
        "Use the pre-defined queue class/functions to create a Queue"
      ]
    },
    {
      "cell_type": "markdown",
      "metadata": {
        "id": "_Hf0OP5cFehV"
      },
      "source": [
        "1. Create a simple queue named **num_queue** `(5 points)`\n",
        "\n",
        "- **num_queue** should contain all digits of your student number.\n",
        "\n",
        "    **Expected Output:**\n",
        "\n",
        "    print(num_queue)\n",
        "\n",
        "    [2,0,2,2,1,2,3,4,5,6]"
      ]
    },
    {
      "cell_type": "code",
      "source": [
        "num_queue = Queue()"
      ],
      "metadata": {
        "id": "RnKEqltCz7eE"
      },
      "execution_count": 85,
      "outputs": []
    },
    {
      "cell_type": "code",
      "source": [
        "num_queue.enqueue(2)\n",
        "num_queue.enqueue(0)\n",
        "num_queue.enqueue(2)\n",
        "num_queue.enqueue(2)\n",
        "num_queue.enqueue(2)\n",
        "num_queue.enqueue(1)\n",
        "num_queue.enqueue(0)\n",
        "num_queue.enqueue(6)\n",
        "num_queue.enqueue(8)\n",
        "num_queue.enqueue(9)\n",
        "num_queue.enqueue(1)"
      ],
      "metadata": {
        "id": "Fw1lzAXh2ncr"
      },
      "execution_count": 86,
      "outputs": []
    },
    {
      "cell_type": "code",
      "source": [
        "num_queue.display()"
      ],
      "metadata": {
        "colab": {
          "base_uri": "https://localhost:8080/"
        },
        "id": "qQV7LbUY3O_a",
        "outputId": "aa0b774c-fd15-4121-b15c-003cfdecc5b0"
      },
      "execution_count": 87,
      "outputs": [
        {
          "output_type": "stream",
          "name": "stdout",
          "text": [
            "[2, 0, 2, 2, 2, 1, 0, 6, 8, 9, 1]\n"
          ]
        }
      ]
    },
    {
      "cell_type": "markdown",
      "metadata": {
        "id": "1pHG8t6DFehV"
      },
      "source": [
        "2. Write a `getMax()` or `getMin()` function for **num_queue** `(5 points)`\n",
        "\n",
        "- If your student number ends with an odd number, create a `getMax()` function that will return the largest number in **num_queue**\n",
        "- If your student number ends with an even number, create a `getMin()` function that will return the lowest number in **num_queue**\n",
        "\n",
        "    **Expected Output for getMax():**\n",
        "\n",
        "    getMax(num_queue)\n",
        "\n",
        "    6\n",
        "\n",
        "    **Expected Output for getMin():**\n",
        "\n",
        "    getMin(num_queue)\n",
        "\n",
        "    0"
      ]
    },
    {
      "cell_type": "code",
      "execution_count": null,
      "metadata": {
        "id": "itj2U610FehV"
      },
      "outputs": [],
      "source": [
        "# put your answer here"
      ]
    },
    {
      "cell_type": "code",
      "source": [
        "def getMax(self):\n",
        "        if len(self.queue) == 0:\n",
        "            return None\n",
        "\n",
        "        max_num = self.queue[0]  # Initialize with the first element\n",
        "        for num in self.queue:\n",
        "            if num > max_num:\n",
        "                max_num = num\n",
        "\n",
        "        return max_num"
      ],
      "metadata": {
        "id": "TSOdavrU5MFj"
      },
      "execution_count": 88,
      "outputs": []
    },
    {
      "cell_type": "code",
      "source": [
        "max_number = getMax(num_queue)"
      ],
      "metadata": {
        "id": "HbcBcEGp5fKa"
      },
      "execution_count": 90,
      "outputs": []
    },
    {
      "cell_type": "code",
      "source": [
        "print(max_number)"
      ],
      "metadata": {
        "colab": {
          "base_uri": "https://localhost:8080/"
        },
        "id": "wMGZKl3H5kFd",
        "outputId": "8ee13992-e5e4-4de3-a466-c9e57a0ddc67"
      },
      "execution_count": 91,
      "outputs": [
        {
          "output_type": "stream",
          "name": "stdout",
          "text": [
            "9\n"
          ]
        }
      ]
    },
    {
      "cell_type": "markdown",
      "metadata": {
        "id": "YkgmP6GwFehV"
      },
      "source": [
        "3. Write a `getOdd()` or `getEven()` function for  **num_queue** `(5 points)`\n",
        "\n",
        "- If your student number ends with an **odd number**, create a `getOdd()` function that will return all odd numbers in **num_queue**\n",
        "- If your student number ends with an **even number**, create a `getEven()` function that will return all even numbers in **num_queue**\n",
        "\n",
        "    **Expected Output for getOdd():**\n",
        "\n",
        "    getOdd(num_queue)\n",
        "\n",
        "    [1, 3, 5]\n",
        "\n",
        "    **Expected Output for getEven():**\n",
        "\n",
        "    getEven(num_queue)\n",
        "\n",
        "    [0, 2, 4, 6]"
      ]
    },
    {
      "cell_type": "code",
      "source": [
        "def getOdd(self):\n",
        "        odd_numbers = [num for num in self.queue if num % 2 != 0]\n",
        "        return odd_numbers"
      ],
      "metadata": {
        "id": "Gpt05TBH-fdu"
      },
      "execution_count": 92,
      "outputs": []
    },
    {
      "cell_type": "code",
      "source": [
        "odd_nums = getOdd(num_queue)"
      ],
      "metadata": {
        "id": "a5eHTrZt-g5m"
      },
      "execution_count": 93,
      "outputs": []
    },
    {
      "cell_type": "code",
      "source": [
        "print(odd_nums)"
      ],
      "metadata": {
        "colab": {
          "base_uri": "https://localhost:8080/"
        },
        "id": "Ft4JoZ09-sF2",
        "outputId": "c5d7531f-045d-4260-acc5-4aaaadc3c103"
      },
      "execution_count": 94,
      "outputs": [
        {
          "output_type": "stream",
          "name": "stdout",
          "text": [
            "[1, 9, 1]\n"
          ]
        }
      ]
    },
    {
      "cell_type": "markdown",
      "metadata": {
        "id": "kuzWF5g4FehV"
      },
      "source": [
        "4. Write a `removeDup()` function that will remove all duplicates in **num_queue** `(5 points)`\n",
        "\n",
        "    **Expected Output:**\n",
        "\n",
        "    removeDup(num_queue)\n",
        "\n",
        "    [2,0,1,3,4,5,6]"
      ]
    },
    {
      "cell_type": "code",
      "source": [
        "num_queue = Queue()"
      ],
      "metadata": {
        "id": "dcm-EZKMB0So"
      },
      "execution_count": 106,
      "outputs": []
    },
    {
      "cell_type": "code",
      "source": [
        "num_queue.enqueue(2)\n",
        "num_queue.enqueue(0)\n",
        "num_queue.enqueue(2)\n",
        "num_queue.enqueue(2)\n",
        "num_queue.enqueue(2)\n",
        "num_queue.enqueue(1)\n",
        "num_queue.enqueue(0)\n",
        "num_queue.enqueue(6)\n",
        "num_queue.enqueue(8)\n",
        "num_queue.enqueue(9)\n",
        "num_queue.enqueue(1)"
      ],
      "metadata": {
        "id": "BnWJUsH6B0tj"
      },
      "execution_count": 107,
      "outputs": []
    },
    {
      "cell_type": "code",
      "source": [
        "num_queue.display()"
      ],
      "metadata": {
        "colab": {
          "base_uri": "https://localhost:8080/"
        },
        "id": "QN69kmhpCIaC",
        "outputId": "4d4b5a87-f586-45ab-9e78-bed3a5ba3bb5"
      },
      "execution_count": 108,
      "outputs": [
        {
          "output_type": "stream",
          "name": "stdout",
          "text": [
            "[2, 0, 2, 2, 2, 1, 0, 6, 8, 9, 1]\n"
          ]
        }
      ]
    },
    {
      "cell_type": "code",
      "source": [
        "def removeDup(num_queue):\n",
        "  temp_stack = []\n",
        "\n",
        "  while num_queue.size() > 0:\n",
        "    dequeued_item = num_queue.dequeue()\n",
        "    temp_stack.append(dequeued_item)\n",
        "\n",
        "  temp_stack = list(set(temp_stack))\n",
        "\n",
        "  for item in temp_stack:\n",
        "    num_queue.enqueue(item)\n",
        "\n",
        "  num_queue.display()\n",
        "\n",
        "  return\n",
        "\n",
        "num_queue = Queue()\n",
        "studnum = [2, 0, 2, 2, 1, 0, 6, 8, 9, 1]\n",
        "\n",
        "for item in studnum:\n",
        "    num_queue.enqueue(item)\n",
        "\n",
        "removeDup(num_queue)"
      ],
      "metadata": {
        "colab": {
          "base_uri": "https://localhost:8080/"
        },
        "id": "jEpAidfxBIK3",
        "outputId": "8f53bd9c-39b0-435d-8ee6-08582bac625e"
      },
      "execution_count": 116,
      "outputs": [
        {
          "output_type": "stream",
          "name": "stdout",
          "text": [
            "[0, 1, 2, 6, 8, 9]\n"
          ]
        }
      ]
    },
    {
      "cell_type": "markdown",
      "metadata": {
        "id": "LVfZTh8YFehZ"
      },
      "source": [
        "## Sort"
      ]
    },
    {
      "cell_type": "markdown",
      "metadata": {
        "id": "bm9lonfzFehZ"
      },
      "source": [
        "**Instructions** ❗️❗️\n",
        "\n",
        "Use the any sorting algoritms"
      ]
    },
    {
      "cell_type": "markdown",
      "metadata": {
        "id": "EJTlxhEdFehZ"
      },
      "source": [
        "1. Using any sorting algorithm, sort the **last 6 digits** of your student number in ascending order `(5 points)`\n",
        "\n",
        "    **Example:**\n",
        "\n",
        "    student_number = [2,0,2,2,6,2,5,1,3,4]\n",
        "\n",
        "    **Expected Output:**\n",
        "\n",
        "    print(student_number)\n",
        "\n",
        "    [2,0,2,2,1,2,3,4,5,6]\n"
      ]
    },
    {
      "cell_type": "code",
      "source": [
        "def sorted_StudNum(arr, start, end):\n",
        "    for i in range(start, end):\n",
        "        for j in range(start, end):\n",
        "            if arr[j] > arr[j + 1]:\n",
        "                arr[j], arr[j + 1] = arr[j + 1], arr[j]\n",
        "\n",
        "student_number = [2, 0, 2, 2, 1, 0, 6, 8, 9, 1]\n",
        "\n",
        "sorted_StudNum(student_number, len(student_number) - 6, len(student_number) - 1)\n",
        "\n",
        "print(student_number)"
      ],
      "metadata": {
        "colab": {
          "base_uri": "https://localhost:8080/"
        },
        "id": "NyS9DJwQIvKB",
        "outputId": "1bb0926c-7fe7-4f47-9ec3-0eb063bf7063"
      },
      "execution_count": 118,
      "outputs": [
        {
          "output_type": "stream",
          "name": "stdout",
          "text": [
            "[2, 0, 2, 2, 0, 1, 1, 6, 8, 9]\n"
          ]
        }
      ]
    },
    {
      "cell_type": "markdown",
      "metadata": {
        "id": "sC2JZRZMFehZ"
      },
      "source": [
        "2. Using your student_number, separately sort the even numbers in **increasing order** and the odd numbers in **decreasing order** `(15 points)`\n",
        "\n",
        "    **Example:**\n",
        "\n",
        "    student_number = [2,0,2,2,1,2,3,4,5,6]\n",
        "\n",
        "    **Expected Output:**\n",
        "\n",
        "    print(student_number)\n",
        "\n",
        "    [0,2,2,2,2,4,6,5,3,1]"
      ]
    },
    {
      "cell_type": "code",
      "source": [
        "def merge_sort(arr):\n",
        "    if len(arr) <= 1:\n",
        "        return arr\n",
        "\n",
        "    mid = len(arr) // 2\n",
        "    left_half = arr[:mid]\n",
        "    right_half = arr[mid:]\n",
        "\n",
        "    left_half = merge_sort(left_half)\n",
        "    right_half = merge_sort(right_half)\n",
        "\n",
        "    return merge(left_half, right_half)"
      ],
      "metadata": {
        "id": "gM8s7MvQKmai"
      },
      "execution_count": 119,
      "outputs": []
    },
    {
      "cell_type": "code",
      "source": [
        "def merge(left, right):\n",
        "    result = []\n",
        "    left_index, right_index = 0, 0\n",
        "\n",
        "    while left_index < len(left) and right_index < len(right):\n",
        "        if left[left_index] % 2 == 0 and right[right_index] % 2 == 0:\n",
        "            if left[left_index] < right[right_index]:\n",
        "                result.append(left[left_index])\n",
        "                left_index += 1\n",
        "            else:\n",
        "                result.append(right[right_index])\n",
        "                right_index += 1\n",
        "        elif left[left_index] % 2 == 0:\n",
        "            result.append(left[left_index])\n",
        "            left_index += 1\n",
        "        else:\n",
        "            result.append(right[right_index])\n",
        "            right_index += 1\n",
        "\n",
        "    result.extend(left[left_index:])\n",
        "    result.extend(right[right_index:])\n",
        "\n",
        "    return result"
      ],
      "metadata": {
        "id": "bgJE4dSrKgje"
      },
      "execution_count": 120,
      "outputs": []
    },
    {
      "cell_type": "code",
      "source": [
        "student_number = [2, 0, 2, 2, 1, 0, 6, 8, 9, 1]\n",
        "\n",
        "sorted_student_number = merge_sort(student_number)"
      ],
      "metadata": {
        "id": "G8GHU-7xKqpP"
      },
      "execution_count": 121,
      "outputs": []
    },
    {
      "cell_type": "code",
      "source": [
        "print(sorted_student_number)"
      ],
      "metadata": {
        "colab": {
          "base_uri": "https://localhost:8080/"
        },
        "id": "aHVhf446KtRh",
        "outputId": "b10e7d2f-030c-4061-f049-6a970f2df071"
      },
      "execution_count": 122,
      "outputs": [
        {
          "output_type": "stream",
          "name": "stdout",
          "text": [
            "[0, 0, 2, 2, 2, 6, 8, 1, 9, 1]\n"
          ]
        }
      ]
    }
  ],
  "metadata": {
    "kernelspec": {
      "display_name": "Python 3",
      "language": "python",
      "name": "python3"
    },
    "language_info": {
      "codemirror_mode": {
        "name": "ipython",
        "version": 3
      },
      "file_extension": ".py",
      "mimetype": "text/x-python",
      "name": "python",
      "nbconvert_exporter": "python",
      "pygments_lexer": "ipython3",
      "version": "3.9.13"
    },
    "orig_nbformat": 4,
    "colab": {
      "provenance": []
    }
  },
  "nbformat": 4,
  "nbformat_minor": 0
}